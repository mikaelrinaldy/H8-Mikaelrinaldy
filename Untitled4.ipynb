{
 "cells": [
  {
   "cell_type": "code",
   "execution_count": 15,
   "metadata": {},
   "outputs": [],
   "source": [
    "def bandingangka(a,b,c):\n",
    "    if a<b:\n",
    "        print (\"a < b\")\n",
    "    \n",
    "    if b<c:\n",
    "        print (\"a < b < c\")\n",
    "    \n",
    "    if a < c:\n",
    "        print(\"a < b dan a <c\")\n",
    "        \n",
    "    print (\"ok\")\n",
    "    print (\"diluar if a < b\")\n",
    "    "
   ]
  },
  {
   "cell_type": "code",
   "execution_count": 16,
   "metadata": {},
   "outputs": [
    {
     "name": "stdout",
     "output_type": "stream",
     "text": [
      "ok\n",
      "diluar if a < b\n"
     ]
    }
   ],
   "source": [
    "bandingangka(50, 10, 6)\n"
   ]
  },
  {
   "cell_type": "code",
   "execution_count": 19,
   "metadata": {},
   "outputs": [
    {
     "name": "stdout",
     "output_type": "stream",
     "text": [
      "halo Ryan\n"
     ]
    }
   ],
   "source": [
    "namaorang =\"Ryan\"\n",
    "print(\"halo \" + namaorang)"
   ]
  },
  {
   "cell_type": "code",
   "execution_count": 39,
   "metadata": {},
   "outputs": [
    {
     "name": "stdout",
     "output_type": "stream",
     "text": [
      "***spesial****\n",
      "halo john\n",
      "halo John\n",
      "halo \n"
     ]
    }
   ],
   "source": [
    "def sapa(namaorang):\n",
    "    spesial =  \"john\"\n",
    "    if(namaorang == spesial):\n",
    "        print(\"***spesial****\")\n",
    "    print(\"halo \"+ namaorang)\n",
    "    return \"Hore\"\n",
    "    print (\"setelah return\")\n",
    "\n",
    "hasil1 = sapa ('john')\n",
    "sapa(\"John\")\n",
    "sapa(\"\")"
   ]
  },
  {
   "cell_type": "code",
   "execution_count": 33,
   "metadata": {},
   "outputs": [
    {
     "name": "stdout",
     "output_type": "stream",
     "text": [
      "Hore\n"
     ]
    }
   ],
   "source": [
    "print (hasil1)"
   ]
  },
  {
   "cell_type": "code",
   "execution_count": 53,
   "metadata": {},
   "outputs": [
    {
     "name": "stdout",
     "output_type": "stream",
     "text": [
      "['nangka', 'belimbing', 'manggis', 'duku']\n",
      "['nangka', 'belimbing', 'manggis', 'duku', 'durian']\n"
     ]
    }
   ],
   "source": [
    "list_buah =['nangka','belimbing','manggis','duku']\n",
    "\n",
    "def nambahbuah(a):\n",
    "    a.append(\"durian\")\n",
    "\n",
    "print (list_buah)\n",
    "nambahbuah(list_buah)\n",
    "print (list_buah) #buahnya jadi 5 pass by ref"
   ]
  },
  {
   "cell_type": "code",
   "execution_count": 49,
   "metadata": {},
   "outputs": [
    {
     "name": "stdout",
     "output_type": "stream",
     "text": [
      "['nangka', 'belimbing', 'manggis', 'duku', 'pisang']\n"
     ]
    }
   ],
   "source": [
    "list_buah =['nangka','belimbing','manggis','duku']\n",
    "\n",
    "a= list_buah\n",
    "a.append(\"pisang\")\n",
    "\n",
    "print(list_buah)"
   ]
  },
  {
   "cell_type": "code",
   "execution_count": 51,
   "metadata": {},
   "outputs": [
    {
     "name": "stdout",
     "output_type": "stream",
     "text": [
      "pepaya\n",
      "pepayamanis\n"
     ]
    }
   ],
   "source": [
    "buah = \"pepaya\"\n",
    "\n",
    "buah2 = buah\n",
    "buah2 += \"manis\"\n",
    "\n",
    "print (buah) #pass by value\n",
    "print (buah2)"
   ]
  },
  {
   "cell_type": "code",
   "execution_count": 76,
   "metadata": {},
   "outputs": [
    {
     "name": "stdout",
     "output_type": "stream",
     "text": [
      "list lama ['azka', 'abi', 'hesti']\n",
      "baru ['azka', 'abi', 'hesti', 'idaz']\n"
     ]
    }
   ],
   "source": [
    "list1 =['azka','abi','hesti']\n",
    "\n",
    "def halo(a):\n",
    "    #bikin copy list baru dulu\n",
    "    list_baru=[]\n",
    "    #untuk setiap barang yg ada di list lama(yg dari parameter)\n",
    "    for i in a:\n",
    "        list_baru.append(i) #kita masukin list baru\n",
    "       \n",
    "    list_baru.append(\"idaz\")  #baru yg kita edit yang list baru\n",
    "    return list_baru #lalu di return\n",
    "\n",
    "baru = halo(list1) #membuat sebuah list baru yg sudah di edit\n",
    "\n",
    "print('list lama',list1)\n",
    "print('baru',baru)"
   ]
  },
  {
   "cell_type": "code",
   "execution_count": 75,
   "metadata": {},
   "outputs": [
    {
     "data": {
      "text/plain": [
       "['azka', 'abi', 'hesti', 'idaz']"
      ]
     },
     "execution_count": 75,
     "metadata": {},
     "output_type": "execute_result"
    }
   ],
   "source": [
    "#halo(baru)\n",
    "halo(list1)\n",
    "halo(list1)"
   ]
  },
  {
   "cell_type": "code",
   "execution_count": 81,
   "metadata": {},
   "outputs": [
    {
     "name": "stdout",
     "output_type": "stream",
     "text": [
      "a: 1 b: 2 c: 3\n"
     ]
    }
   ],
   "source": [
    "def printme(a,b,c):\n",
    "    print (\"a:\",a,\"b:\",b,\"c:\",c)\n",
    "\n",
    "printme(1,2,3)"
   ]
  },
  {
   "cell_type": "code",
   "execution_count": 82,
   "metadata": {},
   "outputs": [
    {
     "name": "stdout",
     "output_type": "stream",
     "text": [
      "a: 3 b: 2 c: 1\n"
     ]
    }
   ],
   "source": [
    "def printme(a,b,c): #default argument , default value\n",
    "    print (\"a:\",a,\"b:\",b,\"c:\",c)\n",
    "\n",
    "printme(3,2,1)"
   ]
  },
  {
   "cell_type": "code",
   "execution_count": 84,
   "metadata": {},
   "outputs": [
    {
     "name": "stdout",
     "output_type": "stream",
     "text": [
      "a: 15 b: 3 c: 10\n"
     ]
    }
   ],
   "source": [
    "printme(c=10, a=15, b=3) #keyword argument"
   ]
  },
  {
   "cell_type": "code",
   "execution_count": 86,
   "metadata": {},
   "outputs": [
    {
     "name": "stdout",
     "output_type": "stream",
     "text": [
      "a: 3 b: 2 c: 10\n"
     ]
    }
   ],
   "source": [
    "def printme(a,b,c=10):\n",
    "    print (\"a:\",a,\"b:\",b,\"c:\",c)\n",
    "\n",
    "printme(3,2) #"
   ]
  },
  {
   "cell_type": "code",
   "execution_count": 90,
   "metadata": {},
   "outputs": [
    {
     "name": "stdout",
     "output_type": "stream",
     "text": [
      "arg1 1\n",
      "vartuple ()\n",
      "arg1 1\n",
      "vartuple (2, 3, 4, 5, 6, 7)\n"
     ]
    }
   ],
   "source": [
    "def printpanjang(arg1, *vartuple):\n",
    "    print(\"arg1\",arg1)\n",
    "    print(\"vartuple\",vartuple)\n",
    "\n",
    "printpanjang(1)\n",
    "\n",
    "printpanjang(1,2,3,4,5,6,7)"
   ]
  },
  {
   "cell_type": "code",
   "execution_count": 91,
   "metadata": {},
   "outputs": [
    {
     "name": "stdout",
     "output_type": "stream",
     "text": [
      "vartuple: ()\n"
     ]
    }
   ],
   "source": [
    "def printpan(*vartuple):\n",
    "    print(\"vartuple:\",vartuple)\n",
    "    \n",
    "printpan()"
   ]
  },
  {
   "cell_type": "code",
   "execution_count": 94,
   "metadata": {},
   "outputs": [
    {
     "name": "stdout",
     "output_type": "stream",
     "text": [
      "ganjil,num\n",
      "genap: 2\n",
      "ganjil,num\n",
      "genap: 4\n",
      "ganjil,num\n",
      "genap: 1090\n"
     ]
    }
   ],
   "source": [
    "def printpan(*vartuple):\n",
    "    for num in vartuple:\n",
    "        if(num % 2 == 0):\n",
    "            print(\"genap:\",num)\n",
    "        else:\n",
    "            print(\"ganjil,num\")\n",
    "printpan(1,2,3,4,9,1090)"
   ]
  },
  {
   "cell_type": "code",
   "execution_count": 100,
   "metadata": {},
   "outputs": [
    {
     "name": "stdout",
     "output_type": "stream",
     "text": [
      "-5\n"
     ]
    }
   ],
   "source": [
    "#function anonymous\n",
    "#function auto return\n",
    "tambah = lambda a,b : a-b;\n",
    "print(tambah(5,10))"
   ]
  },
  {
   "cell_type": "code",
   "execution_count": 103,
   "metadata": {},
   "outputs": [
    {
     "name": "stdout",
     "output_type": "stream",
     "text": [
      "(30, 10)\n"
     ]
    }
   ],
   "source": [
    "def tambah(a,b):\n",
    "    return a+b, 10\n",
    "\n",
    "print(tambah(10,20))"
   ]
  },
  {
   "cell_type": "code",
   "execution_count": 108,
   "metadata": {},
   "outputs": [
    {
     "name": "stdout",
     "output_type": "stream",
     "text": [
      "208\n"
     ]
    }
   ],
   "source": [
    "global_c = 8\n",
    "\n",
    "def tambah(a,b):\n",
    "    a = a * 10\n",
    "    b = b * 5\n",
    "    return a+b+global_c\n",
    "\n",
    "print(tambah(10,20))\n"
   ]
  },
  {
   "cell_type": "code",
   "execution_count": 127,
   "metadata": {},
   "outputs": [
    {
     "name": "stdout",
     "output_type": "stream",
     "text": [
      "num1: 15\n",
      "multiplier 5\n",
      "num 9999\n",
      "num1 9999\n",
      "num2 8\n"
     ]
    }
   ],
   "source": [
    "num = 9999\n",
    "def kalian(num1,num2):\n",
    "    if (num1>0):\n",
    "        multiplier = 5\n",
    "        num1 = num1 * multiplier\n",
    "        print (\"num1:\",num1)\n",
    "        \n",
    "    print(\"multiplier\",multiplier)\n",
    "    print(\"num\",num)\n",
    "    print(\"num1\",num)\n",
    "    print(\"num2\",num2)\n",
    "    \n",
    "kalian(3,8)\n",
    "\n",
    "#def kalian2():\n",
    " #   print(\"num\",num)\n",
    "#kalian2()"
   ]
  },
  {
   "cell_type": "code",
   "execution_count": 5,
   "metadata": {},
   "outputs": [
    {
     "name": "stdout",
     "output_type": "stream",
     "text": [
      "andika\n",
      "25\n",
      "salam kenal saya  andika\n"
     ]
    }
   ],
   "source": [
    "import mod\n",
    "\n",
    "print(mod.name)\n",
    "print(mod.age)\n",
    "mod.salam()"
   ]
  },
  {
   "cell_type": "code",
   "execution_count": 12,
   "metadata": {},
   "outputs": [
    {
     "name": "stdout",
     "output_type": "stream",
     "text": [
      "andika\n",
      "25\n",
      "125\n",
      "salam kenal saya  andika\n"
     ]
    }
   ],
   "source": [
    "from mod import name, age, salam\n",
    "print(name)\n",
    "print(age)\n",
    "print(age*5)\n",
    "salam()"
   ]
  },
  {
   "cell_type": "code",
   "execution_count": 13,
   "metadata": {
    "scrolled": true
   },
   "outputs": [
    {
     "name": "stdout",
     "output_type": "stream",
     "text": [
      "andika\n",
      "25\n",
      "125\n",
      "salam kenal saya  andika\n"
     ]
    }
   ],
   "source": [
    "from mod import *\n",
    "print(name)\n",
    "print(age)\n",
    "print(age*5)\n",
    "salam()"
   ]
  },
  {
   "cell_type": "code",
   "execution_count": 2,
   "metadata": {},
   "outputs": [
    {
     "name": "stdout",
     "output_type": "stream",
     "text": [
      "andika 25\n",
      "salam kenal saya  andika\n"
     ]
    }
   ],
   "source": [
    "from mod import name as username, age as umur, salam as usersalam\n",
    "\n",
    "print(username,umur)\n",
    "usersalam()"
   ]
  },
  {
   "cell_type": "code",
   "execution_count": 3,
   "metadata": {},
   "outputs": [
    {
     "data": {
      "text/plain": [
       "['In',\n",
       " 'Out',\n",
       " '_',\n",
       " '__',\n",
       " '___',\n",
       " '__builtin__',\n",
       " '__builtins__',\n",
       " '__doc__',\n",
       " '__loader__',\n",
       " '__name__',\n",
       " '__package__',\n",
       " '__spec__',\n",
       " '_dh',\n",
       " '_i',\n",
       " '_i1',\n",
       " '_i2',\n",
       " '_i3',\n",
       " '_ih',\n",
       " '_ii',\n",
       " '_iii',\n",
       " '_oh',\n",
       " 'exit',\n",
       " 'get_ipython',\n",
       " 'quit',\n",
       " 'umur',\n",
       " 'username',\n",
       " 'usersalam']"
      ]
     },
     "execution_count": 3,
     "metadata": {},
     "output_type": "execute_result"
    }
   ],
   "source": [
    "dir()\n"
   ]
  },
  {
   "cell_type": "code",
   "execution_count": 5,
   "metadata": {},
   "outputs": [],
   "source": [
    "import sys"
   ]
  }
 ],
 "metadata": {
  "kernelspec": {
   "display_name": "Python 3",
   "language": "python",
   "name": "python3"
  },
  "language_info": {
   "codemirror_mode": {
    "name": "ipython",
    "version": 3
   },
   "file_extension": ".py",
   "mimetype": "text/x-python",
   "name": "python",
   "nbconvert_exporter": "python",
   "pygments_lexer": "ipython3",
   "version": "3.8.5"
  }
 },
 "nbformat": 4,
 "nbformat_minor": 4
}
