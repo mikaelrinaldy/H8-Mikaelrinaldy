{
 "cells": [
  {
   "cell_type": "code",
   "execution_count": 12,
   "metadata": {},
   "outputs": [],
   "source": [
    "str = \"omen\"\n",
    "\n",
    "if \"jakarta\" in str:\n",
    "    print(\"ada jakarta\")\n"
   ]
  },
  {
   "cell_type": "code",
   "execution_count": null,
   "metadata": {},
   "outputs": [],
   "source": []
  },
  {
   "cell_type": "code",
   "execution_count": 10,
   "metadata": {},
   "outputs": [
    {
     "name": "stdout",
     "output_type": "stream",
     "text": [
      "yes\n",
      "yes\n",
      "yes\n"
     ]
    }
   ],
   "source": [
    "x = 0\n",
    "y = 5\n",
    "\n",
    "if x < y:                            # Truthy\n",
    "    print('yes')\n",
    "\n",
    "if y < x:                            # Falsy\n",
    "    print('yes')\n",
    "\n",
    "if x:                                # Falsy\n",
    "    print('yes')\n",
    "\n",
    "if y:                                # Truthy\n",
    "    print('yes')\n",
    "\n",
    "if 'aul' in 'grault':                # Truthy\n",
    "    print('yes')\n",
    "\n",
    "if 'quux' in ['foo', 'bar', 'baz']:  # Falsy\n",
    "    print('yes')\n",
    "    "
   ]
  },
  {
   "cell_type": "code",
   "execution_count": 17,
   "metadata": {},
   "outputs": [
    {
     "name": "stdout",
     "output_type": "stream",
     "text": [
      "a < b\n",
      "a < b dan a <c\n",
      "ok\n",
      "diluar if a < b\n"
     ]
    }
   ],
   "source": [
    "a = 5\n",
    "b = 51\n",
    "c = 6\n",
    "\n",
    "if a<b:\n",
    "    print (\"a < b\")\n",
    "    \n",
    "    if b<c:\n",
    "        print (\"a < b < c\")\n",
    "    \n",
    "    if a < c:\n",
    "        print(\"a < b dan a <c\")\n",
    "        \n",
    "    print (\"ok\")\n",
    "print (\"diluar if a < b\")"
   ]
  },
  {
   "cell_type": "code",
   "execution_count": 19,
   "metadata": {},
   "outputs": [
    {
     "name": "stdout",
     "output_type": "stream",
     "text": [
      "a lebih besar dari b\n",
      "diluar if a < b\n"
     ]
    }
   ],
   "source": [
    "a = 50\n",
    "b = 10\n",
    "c = 6\n",
    "\n",
    "if a<b:\n",
    "    print (\"a < b\")\n",
    "    \n",
    "    if b<c:\n",
    "        print (\"a < b < c\")\n",
    "    \n",
    "    if a < c:\n",
    "        print(\"a < b dan a <c\")\n",
    "        \n",
    "    print (\"ok\")\n",
    "else :\n",
    "    print (\"a lebih besar dari b\")\n",
    "print (\"diluar if a < b\")"
   ]
  },
  {
   "cell_type": "code",
   "execution_count": 20,
   "metadata": {},
   "outputs": [
    {
     "name": "stdout",
     "output_type": "stream",
     "text": [
      "kere\n"
     ]
    }
   ],
   "source": [
    "# hari ini jalan2\n",
    "uang_cukup = 50000\n",
    "uang_dompet = 45000\n",
    "\n",
    "if uang_dompet>=uang_cukup:\n",
    "    print(\"jalan coy\")\n",
    "else:\n",
    "    print(\"kere\")"
   ]
  },
  {
   "cell_type": "code",
   "execution_count": 24,
   "metadata": {},
   "outputs": [
    {
     "name": "stdout",
     "output_type": "stream",
     "text": [
      "tergantung cuaca\n"
     ]
    }
   ],
   "source": [
    "# hari ini jalan2\n",
    "uang_cukup = 50000\n",
    "uang_dompet = 50000\n",
    "\n",
    "if uang_dompet > uang_cukup:\n",
    "    print(\"jalan coy\")\n",
    "elif uang_dompet == uang_cukup:\n",
    "    print (\"tergantung cuaca\")\n",
    "else:\n",
    "    print(\"kere\")\n"
   ]
  },
  {
   "cell_type": "code",
   "execution_count": 27,
   "metadata": {},
   "outputs": [
    {
     "name": "stdout",
     "output_type": "stream",
     "text": [
      "gak ada yg cocok\n"
     ]
    }
   ],
   "source": [
    "nama_murid1 = \"asu\"\n",
    "\n",
    "if nama_murid == \"kevin\":\n",
    "    print (\"halo kevin\")\n",
    "elif nama_murid == \"azka\":\n",
    "    print (\"halo azka\")\n",
    "elif nama_murid == \"Ryan\":\n",
    "    print (\"halo Ryan\")\n",
    "else:\n",
    "    print(\"gak ada yg cocok\")"
   ]
  },
  {
   "cell_type": "code",
   "execution_count": 64,
   "metadata": {},
   "outputs": [
    {
     "name": "stdout",
     "output_type": "stream",
     "text": [
      "halo azka\n"
     ]
    }
   ],
   "source": [
    "nama_murid = \"azka\"\n",
    "\n",
    "if nama_murid == \"kevin\":\n",
    "    print (\"halo kevin\")\n",
    "elif nama_murid == \"azka\":\n",
    "    print (\"halo azka\")\n",
    "elif nama_murid == \"Ryan\":\n",
    "    print (\"halo Ryan\")\n",
    "else:\n",
    "    print(\"gak ada yg cocok\")\n",
    "    \n",
    "#print (\"halo \" + nama_murid)"
   ]
  },
  {
   "cell_type": "code",
   "execution_count": 90,
   "metadata": {},
   "outputs": [
    {
     "name": "stdout",
     "output_type": "stream",
     "text": [
      "halo azka\n"
     ]
    }
   ],
   "source": [
    "list_murid = [\"kevin\",\"azka\",\"ryan\"]\n",
    "\n",
    "if nama_murid in list_murid:\n",
    "    print (\"halo\" + \" \" + nama_murid)"
   ]
  },
  {
   "cell_type": "code",
   "execution_count": 89,
   "metadata": {},
   "outputs": [
    {
     "name": "stdout",
     "output_type": "stream",
     "text": [
      "selesai\n"
     ]
    }
   ],
   "source": [
    "if nama_murid == \"aaaazka\":\n",
    "    print(1)\n",
    "    pass\n",
    "    print(2)\n",
    "print(\"selesai\")"
   ]
  },
  {
   "cell_type": "code",
   "execution_count": 30,
   "metadata": {},
   "outputs": [
    {
     "name": "stdout",
     "output_type": "stream",
     "text": [
      "pushup\n",
      "pushup\n",
      "pushup\n",
      "pushup\n",
      "pushup\n",
      "pushup\n",
      "pushup\n",
      "pushup\n",
      "pushup\n",
      "pushup\n",
      "10\n"
     ]
    }
   ],
   "source": [
    "#looping\n",
    "total_pushup = 10\n",
    "sudah_pushup = 0\n",
    "\n",
    "while sudah_pushup < total_pushup:\n",
    "    print(\"pushup\")\n",
    "    sudah_pushup = sudah_pushup + 1\n",
    "\n",
    "print (sudah_pushup)"
   ]
  },
  {
   "cell_type": "code",
   "execution_count": 33,
   "metadata": {},
   "outputs": [
    {
     "name": "stdout",
     "output_type": "stream",
     "text": [
      "pushup ke 0\n",
      "pushup ke 1\n",
      "pushup ke 2\n",
      "pushup ke 3\n",
      "pushup ke 4\n",
      "pushup ke 5\n",
      "pushup ke 6\n",
      "pushup ke 7\n",
      "pushup ke 8\n",
      "pushup ke 9\n",
      "10\n"
     ]
    }
   ],
   "source": [
    "#looping\n",
    "total_pushup = 10\n",
    "sudah_pushup = 0\n",
    "\n",
    "while sudah_pushup < total_pushup:\n",
    "    print(\"pushup ke\", sudah_pushup)\n",
    "    sudah_pushup = sudah_pushup + 1\n",
    "\n",
    "print (sudah_pushup)"
   ]
  },
  {
   "cell_type": "code",
   "execution_count": 107,
   "metadata": {},
   "outputs": [
    {
     "name": "stdout",
     "output_type": "stream",
     "text": [
      "halo\n"
     ]
    }
   ],
   "source": [
    "#looping teruss\n",
    "nama_murid = \"idaz\" \n",
    "while nama_murid == \"idaz\":\n",
    "    print(\"halo\")"
   ]
  },
  {
   "cell_type": "code",
   "execution_count": 108,
   "metadata": {},
   "outputs": [
    {
     "name": "stdout",
     "output_type": "stream",
     "text": [
      "halo\n"
     ]
    }
   ],
   "source": [
    "nama_murid = \"idaz\" \n",
    "while nama_murid == \"idaz\":\n",
    "    print(\"halo\")\n",
    "    break"
   ]
  },
  {
   "cell_type": "code",
   "execution_count": 15,
   "metadata": {},
   "outputs": [
    {
     "name": "stdout",
     "output_type": "stream",
     "text": [
      "8\n",
      "7\n",
      "6\n",
      "5\n",
      "4\n",
      "3\n",
      "2\n",
      "1\n"
     ]
    }
   ],
   "source": [
    "n = 10\n",
    "while n >1:\n",
    "    n -= 1\n",
    "    if(n > 8):\n",
    "        continue\n",
    "    print(n)\n",
    "    "
   ]
  },
  {
   "cell_type": "code",
   "execution_count": 12,
   "metadata": {},
   "outputs": [
    {
     "name": "stdout",
     "output_type": "stream",
     "text": [
      "15\n"
     ]
    }
   ],
   "source": [
    "n = 100\n",
    "while n >15:\n",
    "    n -= 1\n",
    "    continue\n",
    "    print(n)\n",
    "print(n)"
   ]
  },
  {
   "cell_type": "code",
   "execution_count": 19,
   "metadata": {},
   "outputs": [
    {
     "name": "stdout",
     "output_type": "stream",
     "text": [
      "halo mas bro\n"
     ]
    }
   ],
   "source": [
    "nama_murid = \"idaz\" \n",
    "while nama_murid == \"idaz\":\n",
    "    print(\"halo mas bro\")\n",
    "    break\n",
    "else:\n",
    "    print(\"selamat malam\" + nama_murid)"
   ]
  },
  {
   "cell_type": "code",
   "execution_count": 20,
   "metadata": {},
   "outputs": [
    {
     "name": "stdout",
     "output_type": "stream",
     "text": [
      "ngulang 10x 10\n",
      "ngulang 10x 9\n",
      "ngulang 10x 8\n",
      "ngulang 10x 7\n",
      "ngulang 10x 6\n",
      "ngulang 10x 5\n",
      "ngulang 10x 4\n",
      "ngulang 10x 3\n",
      "ngulang 10x 2\n",
      "ngulang 10x 1\n"
     ]
    }
   ],
   "source": [
    "n = 10\n",
    "while n >0:\n",
    "    print(\"ngulang 10x\",n)\n",
    "    n -=1"
   ]
  },
  {
   "cell_type": "code",
   "execution_count": 27,
   "metadata": {},
   "outputs": [
    {
     "name": "stdout",
     "output_type": "stream",
     "text": [
      "while pertama 2\n",
      "while kedua,nested 3\n",
      "while kedua,nested 2\n",
      "while kedua,nested 1\n",
      "while pertama 1\n",
      "while kedua,nested 3\n",
      "while kedua,nested 2\n",
      "while kedua,nested 1\n",
      "6\n"
     ]
    }
   ],
   "source": [
    "count = 0\n",
    "n = 2\n",
    "while n>0:\n",
    "    print(\"while pertama\",n)\n",
    "    \n",
    "    a = 3\n",
    "    \n",
    "    while a > 0:\n",
    "        print (\"while kedua,nested\",a)\n",
    "        a -=1\n",
    "        count += 1\n",
    "    n -= 1\n",
    "\n",
    "print (count)"
   ]
  },
  {
   "cell_type": "code",
   "execution_count": 38,
   "metadata": {},
   "outputs": [
    {
     "name": "stdout",
     "output_type": "stream",
     "text": [
      "5\n"
     ]
    }
   ],
   "source": [
    "n = 5\n",
    "if n>0: n--1;print(n)"
   ]
  },
  {
   "cell_type": "code",
   "execution_count": null,
   "metadata": {},
   "outputs": [],
   "source": [
    "n = 5\n",
    "while n>0: n--1;print(n)"
   ]
  },
  {
   "cell_type": "code",
   "execution_count": 46,
   "metadata": {},
   "outputs": [
    {
     "name": "stdout",
     "output_type": "stream",
     "text": [
      "0\n",
      "1\n",
      "2\n",
      "3\n",
      "4\n",
      "5\n",
      "6\n",
      "7\n",
      "8\n",
      "9\n"
     ]
    }
   ],
   "source": [
    "#for loop\n",
    "\n",
    "for n in range(10):\n",
    "    print(n)"
   ]
  },
  {
   "cell_type": "code",
   "execution_count": null,
   "metadata": {},
   "outputs": [],
   "source": []
  },
  {
   "cell_type": "code",
   "execution_count": 47,
   "metadata": {},
   "outputs": [
    {
     "name": "stdout",
     "output_type": "stream",
     "text": [
      "halo kevin\n",
      "halo azka\n",
      "halo ryan\n"
     ]
    }
   ],
   "source": [
    "list_murid = [\"kevin\",\"azka\",\"ryan\"]\n",
    "\n",
    "for murid in list_murid:\n",
    "    print (\"halo\", murid)\n",
    "    "
   ]
  },
  {
   "cell_type": "code",
   "execution_count": 50,
   "metadata": {},
   "outputs": [
    {
     "name": "stdout",
     "output_type": "stream",
     "text": [
      "halo kevin\n",
      "halo azka\n",
      "halo mas bro azka\n",
      "halo ryan\n"
     ]
    }
   ],
   "source": [
    "list_murid = [\"kevin\",\"azka\",\"ryan\"]\n",
    "\n",
    "for murid in list_murid:\n",
    "    print (\"halo\", murid)\n",
    "    if murid == \"azka\":\n",
    "        print (\"halo mas bro\",murid)"
   ]
  },
  {
   "cell_type": "code",
   "execution_count": 59,
   "metadata": {},
   "outputs": [
    {
     "name": "stdout",
     "output_type": "stream",
     "text": [
      "kevin\n",
      "azka\n",
      "ryan\n",
      "kevin 60\n",
      "azka 80\n",
      "ryan 90\n"
     ]
    }
   ],
   "source": [
    "#ambil yg namanya doang\n",
    "dict_murid = {\"kevin\" : 60 ,\"azka\" :80 ,\"ryan\" :90}\n",
    "for murid in dict_murid:\n",
    "    print(murid)\n",
    "\n",
    "#keluarin yg kiri kanan\n",
    "dict_murid = {\"kevin\" : 60 ,\"azka\" :80 ,\"ryan\" :90}\n",
    "for murid,nilai in dict_murid.items():\n",
    "    print(murid, nilai)"
   ]
  },
  {
   "cell_type": "code",
   "execution_count": 58,
   "metadata": {},
   "outputs": [
    {
     "name": "stdout",
     "output_type": "stream",
     "text": [
      "kevin 60\n",
      "azka 80\n",
      "ryan 90\n"
     ]
    }
   ],
   "source": [
    "for murid in dict_murid:\n",
    "    print(murid,dict_murid[murid])"
   ]
  },
  {
   "cell_type": "code",
   "execution_count": 60,
   "metadata": {},
   "outputs": [
    {
     "name": "stdout",
     "output_type": "stream",
     "text": [
      "kevin 60\n",
      "azka 80\n",
      "ryan 90\n",
      "for loop selesai\n"
     ]
    }
   ],
   "source": [
    "for murid in dict_murid:\n",
    "    print(murid,dict_murid[murid])\n",
    "else:\n",
    "    print(\"for loop selesai\")"
   ]
  },
  {
   "cell_type": "code",
   "execution_count": 61,
   "metadata": {},
   "outputs": [
    {
     "name": "stdout",
     "output_type": "stream",
     "text": [
      "kevin 60\n"
     ]
    }
   ],
   "source": [
    "for murid in dict_murid:\n",
    "    print(murid,dict_murid[murid])\n",
    "    break\n",
    "else:\n",
    "    print(\"for loop selesai\")"
   ]
  },
  {
   "cell_type": "code",
   "execution_count": 63,
   "metadata": {},
   "outputs": [
    {
     "name": "stdout",
     "output_type": "stream",
     "text": [
      "kevin 0\n",
      "azka 1\n",
      "ryan 2\n"
     ]
    }
   ],
   "source": [
    "list_murid\n",
    "for n in range(len(list_murid)):\n",
    "    print(list_murid[n],n)"
   ]
  },
  {
   "cell_type": "code",
   "execution_count": 71,
   "metadata": {},
   "outputs": [
    {
     "name": "stdout",
     "output_type": "stream",
     "text": [
      "0\n",
      "17\n",
      "34\n",
      "51\n",
      "68\n",
      "85\n",
      "0\n",
      "2\n",
      "4\n",
      "6\n",
      "8\n",
      "10\n",
      "12\n",
      "14\n",
      "16\n",
      "18\n",
      "20\n",
      "22\n",
      "24\n",
      "26\n",
      "28\n",
      "30\n",
      "32\n",
      "34\n",
      "36\n",
      "38\n",
      "40\n",
      "42\n",
      "44\n",
      "46\n",
      "48\n",
      "50\n",
      "52\n",
      "54\n",
      "56\n",
      "58\n",
      "60\n",
      "62\n",
      "64\n",
      "66\n",
      "68\n",
      "70\n",
      "72\n",
      "74\n",
      "76\n",
      "78\n",
      "80\n",
      "82\n",
      "84\n",
      "86\n",
      "88\n",
      "90\n",
      "92\n",
      "94\n",
      "96\n",
      "98\n"
     ]
    }
   ],
   "source": [
    "for n in range (0,100,17):\n",
    "    print (n)\n",
    "\n",
    "for n in range (0,100,2):\n",
    "    print (n)"
   ]
  },
  {
   "cell_type": "code",
   "execution_count": 74,
   "metadata": {},
   "outputs": [
    {
     "name": "stdout",
     "output_type": "stream",
     "text": [
      "10\n",
      "7\n",
      "4\n",
      "1\n",
      "-2\n",
      "-5\n",
      "-8\n"
     ]
    }
   ],
   "source": [
    "for n in range (10,-10,-3):\n",
    "    print(n)"
   ]
  },
  {
   "cell_type": "code",
   "execution_count": 83,
   "metadata": {},
   "outputs": [
    {
     "name": "stdout",
     "output_type": "stream",
     "text": [
      "1 lapar tapi tidak haus, pesen nasi aja\n"
     ]
    }
   ],
   "source": [
    "lapar = True\n",
    "haus = True\n",
    "\n",
    "#kalau lapar, tidak haus\n",
    "#kalau tidak lapar, haus\n",
    "#kalau lapar, dan haus\n",
    "\n",
    "if lapar == True and haus == True :\n",
    "    print (\"1 lapar tapi tidak haus, pesen nasi aja\")\n",
    "elif lapar == False and haus == True :\n",
    "    print(\"2 tidak lapar tapi aus, pesen air putih aja\")\n",
    "elif lapar == True and haus == True:\n",
    "    print(\"3 Lapar & haus pesen paket komplit\")\n",
    "else:\n",
    "    print(\"4 gak laper & gak aus\")"
   ]
  },
  {
   "cell_type": "code",
   "execution_count": 4,
   "metadata": {},
   "outputs": [
    {
     "name": "stdout",
     "output_type": "stream",
     "text": [
      "2. gak usa beres\n"
     ]
    }
   ],
   "source": [
    "Berantakan = False\n",
    "dimarahin = False\n",
    "\n",
    "if Berantakan or dimarahin :\n",
    "    print (\"1. beresin kamer\")\n",
    "else:\n",
    "    print (\"2. gak usa beres\")\n",
    "    "
   ]
  },
  {
   "cell_type": "code",
   "execution_count": null,
   "metadata": {},
   "outputs": [],
   "source": []
  }
 ],
 "metadata": {
  "kernelspec": {
   "display_name": "Python 3",
   "language": "python",
   "name": "python3"
  },
  "language_info": {
   "codemirror_mode": {
    "name": "ipython",
    "version": 3
   },
   "file_extension": ".py",
   "mimetype": "text/x-python",
   "name": "python",
   "nbconvert_exporter": "python",
   "pygments_lexer": "ipython3",
   "version": "3.8.5"
  }
 },
 "nbformat": 4,
 "nbformat_minor": 4
}
