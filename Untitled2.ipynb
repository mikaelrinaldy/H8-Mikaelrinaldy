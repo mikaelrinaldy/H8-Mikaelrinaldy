{
 "cells": [
  {
   "cell_type": "code",
   "execution_count": 12,
   "metadata": {},
   "outputs": [],
   "source": [
    "str = \"omen\"\n",
    "\n",
    "if \"jakarta\" in str:\n",
    "    print(\"ada jakarta\")\n"
   ]
  },
  {
   "cell_type": "code",
   "execution_count": null,
   "metadata": {},
   "outputs": [],
   "source": []
  },
  {
   "cell_type": "code",
   "execution_count": 10,
   "metadata": {},
   "outputs": [
    {
     "name": "stdout",
     "output_type": "stream",
     "text": [
      "yes\n",
      "yes\n",
      "yes\n"
     ]
    }
   ],
   "source": [
    "x = 0\n",
    "y = 5\n",
    "\n",
    "if x < y:                            # Truthy\n",
    "    print('yes')\n",
    "\n",
    "if y < x:                            # Falsy\n",
    "    print('yes')\n",
    "\n",
    "if x:                                # Falsy\n",
    "    print('yes')\n",
    "\n",
    "if y:                                # Truthy\n",
    "    print('yes')\n",
    "\n",
    "if 'aul' in 'grault':                # Truthy\n",
    "    print('yes')\n",
    "\n",
    "if 'quux' in ['foo', 'bar', 'baz']:  # Falsy\n",
    "    print('yes')\n",
    "    "
   ]
  },
  {
   "cell_type": "code",
   "execution_count": 17,
   "metadata": {},
   "outputs": [
    {
     "name": "stdout",
     "output_type": "stream",
     "text": [
      "a < b\n",
      "a < b dan a <c\n",
      "ok\n",
      "diluar if a < b\n"
     ]
    }
   ],
   "source": [
    "a = 5\n",
    "b = 51\n",
    "c = 6\n",
    "\n",
    "if a<b:\n",
    "    print (\"a < b\")\n",
    "    \n",
    "    if b<c:\n",
    "        print (\"a < b < c\")\n",
    "    \n",
    "    if a < c:\n",
    "        print(\"a < b dan a <c\")\n",
    "        \n",
    "    print (\"ok\")\n",
    "print (\"diluar if a < b\")"
   ]
  },
  {
   "cell_type": "code",
   "execution_count": 19,
   "metadata": {},
   "outputs": [
    {
     "name": "stdout",
     "output_type": "stream",
     "text": [
      "a lebih besar dari b\n",
      "diluar if a < b\n"
     ]
    }
   ],
   "source": [
    "a = 50\n",
    "b = 10\n",
    "c = 6\n",
    "\n",
    "if a<b:\n",
    "    print (\"a < b\")\n",
    "    \n",
    "    if b<c:\n",
    "        print (\"a < b < c\")\n",
    "    \n",
    "    if a < c:\n",
    "        print(\"a < b dan a <c\")\n",
    "        \n",
    "    print (\"ok\")\n",
    "else :\n",
    "    print (\"a lebih besar dari b\")\n",
    "print (\"diluar if a < b\")"
   ]
  },
  {
   "cell_type": "code",
   "execution_count": 20,
   "metadata": {},
   "outputs": [
    {
     "name": "stdout",
     "output_type": "stream",
     "text": [
      "kere\n"
     ]
    }
   ],
   "source": [
    "# hari ini jalan2\n",
    "uang_cukup = 50000\n",
    "uang_dompet = 45000\n",
    "\n",
    "if uang_dompet>=uang_cukup:\n",
    "    print(\"jalan coy\")\n",
    "else:\n",
    "    print(\"kere\")"
   ]
  },
  {
   "cell_type": "code",
   "execution_count": 24,
   "metadata": {},
   "outputs": [
    {
     "name": "stdout",
     "output_type": "stream",
     "text": [
      "tergantung cuaca\n"
     ]
    }
   ],
   "source": [
    "# hari ini jalan2\n",
    "uang_cukup = 50000\n",
    "uang_dompet = 50000\n",
    "\n",
    "if uang_dompet > uang_cukup:\n",
    "    print(\"jalan coy\")\n",
    "elif uang_dompet == uang_cukup:\n",
    "    print (\"tergantung cuaca\")\n",
    "else:\n",
    "    print(\"kere\")\n"
   ]
  },
  {
   "cell_type": "code",
   "execution_count": 27,
   "metadata": {},
   "outputs": [
    {
     "name": "stdout",
     "output_type": "stream",
     "text": [
      "gak ada yg cocok\n"
     ]
    }
   ],
   "source": [
    "nama_murid1 = \"asu\"\n",
    "\n",
    "if nama_murid == \"kevin\":\n",
    "    print (\"halo kevin\")\n",
    "elif nama_murid == \"azka\":\n",
    "    print (\"halo azka\")\n",
    "elif nama_murid == \"Ryan\":\n",
    "    print (\"halo Ryan\")\n",
    "else:\n",
    "    print(\"gak ada yg cocok\")"
   ]
  },
  {
   "cell_type": "code",
   "execution_count": 64,
   "metadata": {},
   "outputs": [
    {
     "name": "stdout",
     "output_type": "stream",
     "text": [
      "halo azka\n"
     ]
    }
   ],
   "source": [
    "nama_murid = \"azka\"\n",
    "\n",
    "if nama_murid == \"kevin\":\n",
    "    print (\"halo kevin\")\n",
    "elif nama_murid == \"azka\":\n",
    "    print (\"halo azka\")\n",
    "elif nama_murid == \"Ryan\":\n",
    "    print (\"halo Ryan\")\n",
    "else:\n",
    "    print(\"gak ada yg cocok\")\n",
    "    \n",
    "#print (\"halo \" + nama_murid)"
   ]
  },
  {
   "cell_type": "code",
   "execution_count": 90,
   "metadata": {},
   "outputs": [
    {
     "name": "stdout",
     "output_type": "stream",
     "text": [
      "halo azka\n"
     ]
    }
   ],
   "source": [
    "list_murid = [\"kevin\",\"azka\",\"ryan\"]\n",
    "\n",
    "if nama_murid in list_murid:\n",
    "    print (\"halo\" + \" \" + nama_murid)"
   ]
  },
  {
   "cell_type": "code",
   "execution_count": 89,
   "metadata": {},
   "outputs": [
    {
     "name": "stdout",
     "output_type": "stream",
     "text": [
      "selesai\n"
     ]
    }
   ],
   "source": [
    "if nama_murid == \"aaaazka\":\n",
    "    print(1)\n",
    "    pass\n",
    "    print(2)\n",
    "print(\"selesai\")"
   ]
  },
  {
   "cell_type": "code",
   "execution_count": 30,
   "metadata": {},
   "outputs": [
    {
     "name": "stdout",
     "output_type": "stream",
     "text": [
      "pushup\n",
      "pushup\n",
      "pushup\n",
      "pushup\n",
      "pushup\n",
      "pushup\n",
      "pushup\n",
      "pushup\n",
      "pushup\n",
      "pushup\n",
      "10\n"
     ]
    }
   ],
   "source": [
    "#looping\n",
    "total_pushup = 10\n",
    "sudah_pushup = 0\n",
    "\n",
    "while sudah_pushup < total_pushup:\n",
    "    print(\"pushup\")\n",
    "    sudah_pushup = sudah_pushup + 1\n",
    "\n",
    "print (sudah_pushup)"
   ]
  },
  {
   "cell_type": "code",
   "execution_count": 33,
   "metadata": {},
   "outputs": [
    {
     "name": "stdout",
     "output_type": "stream",
     "text": [
      "pushup ke 0\n",
      "pushup ke 1\n",
      "pushup ke 2\n",
      "pushup ke 3\n",
      "pushup ke 4\n",
      "pushup ke 5\n",
      "pushup ke 6\n",
      "pushup ke 7\n",
      "pushup ke 8\n",
      "pushup ke 9\n",
      "10\n"
     ]
    }
   ],
   "source": [
    "#looping\n",
    "total_pushup = 10\n",
    "sudah_pushup = 0\n",
    "\n",
    "while sudah_pushup < total_pushup:\n",
    "    print(\"pushup ke\", sudah_pushup)\n",
    "    sudah_pushup = sudah_pushup + 1\n",
    "\n",
    "print (sudah_pushup)"
   ]
  },
  {
   "cell_type": "code",
   "execution_count": 107,
   "metadata": {},
   "outputs": [
    {
     "name": "stdout",
     "output_type": "stream",
     "text": [
      "halo\n"
     ]
    }
   ],
   "source": [
    "#looping teruss\n",
    "nama_murid = \"idaz\" \n",
    "while nama_murid == \"idaz\":\n",
    "    print(\"halo\")"
   ]
  },
  {
   "cell_type": "code",
   "execution_count": 108,
   "metadata": {},
   "outputs": [
    {
     "name": "stdout",
     "output_type": "stream",
     "text": [
      "halo\n"
     ]
    }
   ],
   "source": [
    "nama_murid = \"idaz\" \n",
    "while nama_murid == \"idaz\":\n",
    "    print(\"halo\")\n",
    "    break"
   ]
  },
  {
   "cell_type": "code",
   "execution_count": 15,
   "metadata": {},
   "outputs": [
    {
     "name": "stdout",
     "output_type": "stream",
     "text": [
      "8\n",
      "7\n",
      "6\n",
      "5\n",
      "4\n",
      "3\n",
      "2\n",
      "1\n"
     ]
    }
   ],
   "source": [
    "n = 10\n",
    "while n >1:\n",
    "    n -= 1\n",
    "    if(n > 8):\n",
    "        continue\n",
    "    print(n)\n",
    "    "
   ]
  },
  {
   "cell_type": "code",
   "execution_count": 12,
   "metadata": {},
   "outputs": [
    {
     "name": "stdout",
     "output_type": "stream",
     "text": [
      "15\n"
     ]
    }
   ],
   "source": [
    "n = 100\n",
    "while n >15:\n",
    "    n -= 1\n",
    "    continue\n",
    "    print(n)\n",
    "print(n)"
   ]
  },
  {
   "cell_type": "code",
   "execution_count": 19,
   "metadata": {},
   "outputs": [
    {
     "name": "stdout",
     "output_type": "stream",
     "text": [
      "halo mas bro\n"
     ]
    }
   ],
   "source": [
    "nama_murid = \"idaz\" \n",
    "while nama_murid == \"idaz\":\n",
    "    print(\"halo mas bro\")\n",
    "    break\n",
    "else:\n",
    "    print(\"selamat malam\" + nama_murid)"
   ]
  },
  {
   "cell_type": "code",
   "execution_count": 20,
   "metadata": {},
   "outputs": [
    {
     "name": "stdout",
     "output_type": "stream",
     "text": [
      "ngulang 10x 10\n",
      "ngulang 10x 9\n",
      "ngulang 10x 8\n",
      "ngulang 10x 7\n",
      "ngulang 10x 6\n",
      "ngulang 10x 5\n",
      "ngulang 10x 4\n",
      "ngulang 10x 3\n",
      "ngulang 10x 2\n",
      "ngulang 10x 1\n"
     ]
    }
   ],
   "source": [
    "n = 10\n",
    "while n >0:\n",
    "    print(\"ngulang 10x\",n)\n",
    "    n -=1"
   ]
  },
  {
   "cell_type": "code",
   "execution_count": 27,
   "metadata": {},
   "outputs": [
    {
     "name": "stdout",
     "output_type": "stream",
     "text": [
      "while pertama 2\n",
      "while kedua,nested 3\n",
      "while kedua,nested 2\n",
      "while kedua,nested 1\n",
      "while pertama 1\n",
      "while kedua,nested 3\n",
      "while kedua,nested 2\n",
      "while kedua,nested 1\n",
      "6\n"
     ]
    }
   ],
   "source": [
    "count = 0\n",
    "n = 2\n",
    "while n>0:\n",
    "    print(\"while pertama\",n)\n",
    "    \n",
    "    a = 3\n",
    "    \n",
    "    while a > 0:\n",
    "        print (\"while kedua,nested\",a)\n",
    "        a -=1\n",
    "        count += 1\n",
    "    n -= 1\n",
    "\n",
    "print (count)"
   ]
  },
  {
   "cell_type": "code",
   "execution_count": 38,
   "metadata": {},
   "outputs": [
    {
     "name": "stdout",
     "output_type": "stream",
     "text": [
      "5\n"
     ]
    }
   ],
   "source": [
    "n = 5\n",
    "if n>0: n--1;print(n)"
   ]
  },
  {
   "cell_type": "code",
   "execution_count": null,
   "metadata": {},
   "outputs": [],
   "source": [
    "n = 5\n",
    "while n>0: n--1;print(n)"
   ]
  },
  {
   "cell_type": "code",
   "execution_count": 46,
   "metadata": {},
   "outputs": [
    {
     "name": "stdout",
     "output_type": "stream",
     "text": [
      "0\n",
      "1\n",
      "2\n",
      "3\n",
      "4\n",
      "5\n",
      "6\n",
      "7\n",
      "8\n",
      "9\n"
     ]
    }
   ],
   "source": [
    "#for loop\n",
    "\n",
    "for n in range(10):\n",
    "    print(n)"
   ]
  },
  {
   "cell_type": "code",
   "execution_count": 47,
   "metadata": {},
   "outputs": [
    {
     "name": "stdout",
     "output_type": "stream",
     "text": [
      "halo kevin\n",
      "halo azka\n",
      "halo ryan\n"
     ]
    }
   ],
   "source": [
    "list_murid = [\"kevin\",\"azka\",\"ryan\"]\n",
    "\n",
    "for murid in list_murid:\n",
    "    print (\"halo\", murid)\n",
    "    "
   ]
  },
  {
   "cell_type": "code",
   "execution_count": 50,
   "metadata": {},
   "outputs": [
    {
     "name": "stdout",
     "output_type": "stream",
     "text": [
      "halo kevin\n",
      "halo azka\n",
      "halo mas bro azka\n",
      "halo ryan\n"
     ]
    }
   ],
   "source": [
    "list_murid = [\"kevin\",\"azka\",\"ryan\"]\n",
    "\n",
    "for murid in list_murid:\n",
    "    print (\"halo\", murid)\n",
    "    if murid == \"azka\":\n",
    "        print (\"halo mas bro\",murid)"
   ]
  },
  {
   "cell_type": "code",
   "execution_count": 59,
   "metadata": {},
   "outputs": [
    {
     "name": "stdout",
     "output_type": "stream",
     "text": [
      "kevin\n",
      "azka\n",
      "ryan\n",
      "kevin 60\n",
      "azka 80\n",
      "ryan 90\n"
     ]
    }
   ],
   "source": [
    "#ambil yg namanya doang\n",
    "dict_murid = {\"kevin\" : 60 ,\"azka\" :80 ,\"ryan\" :90}\n",
    "for murid in dict_murid:\n",
    "    print(murid)\n",
    "\n",
    "#keluarin yg kiri kanan\n",
    "dict_murid = {\"kevin\" : 60 ,\"azka\" :80 ,\"ryan\" :90}\n",
    "for murid,nilai in dict_murid.items():\n",
    "    print(murid, nilai)"
   ]
  },
  {
   "cell_type": "code",
   "execution_count": 58,
   "metadata": {},
   "outputs": [
    {
     "name": "stdout",
     "output_type": "stream",
     "text": [
      "kevin 60\n",
      "azka 80\n",
      "ryan 90\n"
     ]
    }
   ],
   "source": [
    "for murid in dict_murid:\n",
    "    print(murid,dict_murid[murid])"
   ]
  },
  {
   "cell_type": "code",
   "execution_count": 60,
   "metadata": {},
   "outputs": [
    {
     "name": "stdout",
     "output_type": "stream",
     "text": [
      "kevin 60\n",
      "azka 80\n",
      "ryan 90\n",
      "for loop selesai\n"
     ]
    }
   ],
   "source": [
    "for murid in dict_murid:\n",
    "    print(murid,dict_murid[murid])\n",
    "else:\n",
    "    print(\"for loop selesai\")"
   ]
  },
  {
   "cell_type": "code",
   "execution_count": 61,
   "metadata": {},
   "outputs": [
    {
     "name": "stdout",
     "output_type": "stream",
     "text": [
      "kevin 60\n"
     ]
    }
   ],
   "source": [
    "for murid in dict_murid:\n",
    "    print(murid,dict_murid[murid])\n",
    "    break\n",
    "else:\n",
    "    print(\"for loop selesai\")"
   ]
  },
  {
   "cell_type": "code",
   "execution_count": 63,
   "metadata": {},
   "outputs": [
    {
     "name": "stdout",
     "output_type": "stream",
     "text": [
      "kevin 0\n",
      "azka 1\n",
      "ryan 2\n"
     ]
    }
   ],
   "source": [
    "list_murid\n",
    "for n in range(len(list_murid)):\n",
    "    print(list_murid[n],n)"
   ]
  }
 ],
 "metadata": {
  "kernelspec": {
   "display_name": "Python 3",
   "language": "python",
   "name": "python3"
  },
  "language_info": {
   "codemirror_mode": {
    "name": "ipython",
    "version": 3
   },
   "file_extension": ".py",
   "mimetype": "text/x-python",
   "name": "python",
   "nbconvert_exporter": "python",
   "pygments_lexer": "ipython3",
   "version": "3.8.5"
  }
 },
 "nbformat": 4,
 "nbformat_minor": 4
}
